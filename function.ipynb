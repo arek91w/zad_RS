{
 "cells": [
  {
   "cell_type": "code",
   "execution_count": 31,
   "id": "8fcf6726-2055-4f46-a9d2-83221e8e582d",
   "metadata": {},
   "outputs": [],
   "source": [
    "import pandas as pd\n",
    "import numpy as np\n",
    "import matplotlib.pyplot as plt"
   ]
  },
  {
   "cell_type": "code",
   "execution_count": 32,
   "id": "595af0a7-e4b8-4644-9ada-f3bcc1b2d62a",
   "metadata": {},
   "outputs": [],
   "source": [
    "# Wczytanie danych oraz zamiana przecinkow na kropki w kolumnie 'Ta4'\n",
    "df = pd.read_csv('df_task_final.csv')\n",
    "df['Ta4'] = df['Ta4'].str.replace(',','.')"
   ]
  },
  {
   "cell_type": "code",
   "execution_count": 41,
   "id": "f2c6ca92-f774-4694-8f07-8b0fd07ce58d",
   "metadata": {},
   "outputs": [],
   "source": [
    "# funkcja obliczaja srednia kraczaca dla wszystkich kolumn dla pierwszych 300 obserwacji\n",
    "# przyjmuje 2 parametry 1 - ramka danych, 2 - parametr window typu int (szerokosc okna dla ktorego liczymy\n",
    "# srednia kroczaca)\n",
    "\n",
    "def df_to_moving_avarage(dataframe, window):\n",
    "    df_cutted = dataframe[0:window]\n",
    "    colnames = df_cutted.columns\n",
    "    new_colnames = ['Timestamp']\n",
    "    for colname in colnames:\n",
    "        col_num = df_cutted[colname].to_numpy()\n",
    "        try:\n",
    "            col_num = col_num.astype(np.float)\n",
    "            new_colnames.append(colname+'__'+str(window)+'__mean')\n",
    "        except:\n",
    "            pass\n",
    "    new_df = pd.DataFrame(columns=new_colnames)\n",
    "    for i in range(300):\n",
    "        df_cutted = dataframe[i:window+i]\n",
    "    \n",
    "        avarage_list = [df_cutted['Timestamp'].iloc[-1]]\n",
    "        for colname in colnames:\n",
    "            col_num = df_cutted[colname].to_numpy()\n",
    "            try:\n",
    "                col_num = col_num.astype(np.float)\n",
    "                avarage_list.append(np.mean(col_num))\n",
    "            except:\n",
    "                pass\n",
    "        new_df.loc[len(new_df)] = avarage_list\n",
    "    \n",
    "    return new_df"
   ]
  },
  {
   "cell_type": "code",
   "execution_count": 42,
   "id": "d83eff0b-a5bd-4e78-80bd-0984a8d97821",
   "metadata": {},
   "outputs": [],
   "source": [
    "new_df = df_to_moving_avarage(df, 20)"
   ]
  },
  {
   "cell_type": "code",
   "execution_count": 43,
   "id": "eec02984-d822-47f0-9f88-797b9b2b0b48",
   "metadata": {},
   "outputs": [
    {
     "data": {
      "text/html": [
       "<div>\n",
       "<style scoped>\n",
       "    .dataframe tbody tr th:only-of-type {\n",
       "        vertical-align: middle;\n",
       "    }\n",
       "\n",
       "    .dataframe tbody tr th {\n",
       "        vertical-align: top;\n",
       "    }\n",
       "\n",
       "    .dataframe thead th {\n",
       "        text-align: right;\n",
       "    }\n",
       "</style>\n",
       "<table border=\"1\" class=\"dataframe\">\n",
       "  <thead>\n",
       "    <tr style=\"text-align: right;\">\n",
       "      <th></th>\n",
       "      <th>Timestamp</th>\n",
       "      <th>P1__20__mean</th>\n",
       "      <th>T1__20__mean</th>\n",
       "      <th>T2__20__mean</th>\n",
       "      <th>Ta1__20__mean</th>\n",
       "      <th>Ta3__20__mean</th>\n",
       "      <th>Ta4__20__mean</th>\n",
       "      <th>Ta5__20__mean</th>\n",
       "      <th>Ta6__20__mean</th>\n",
       "      <th>Ta7__20__mean</th>\n",
       "      <th>Ta8__20__mean</th>\n",
       "      <th>Ta_q__20__mean</th>\n",
       "      <th>power__20__mean</th>\n",
       "    </tr>\n",
       "  </thead>\n",
       "  <tbody>\n",
       "    <tr>\n",
       "      <th>0</th>\n",
       "      <td>2004-02-10 00:19:00</td>\n",
       "      <td>-262.465391</td>\n",
       "      <td>608.949474</td>\n",
       "      <td>593.235658</td>\n",
       "      <td>186.540047</td>\n",
       "      <td>165.314170</td>\n",
       "      <td>191.088443</td>\n",
       "      <td>175.791580</td>\n",
       "      <td>195.231898</td>\n",
       "      <td>199.067122</td>\n",
       "      <td>199.996150</td>\n",
       "      <td>392.393162</td>\n",
       "      <td>-275.507592</td>\n",
       "    </tr>\n",
       "    <tr>\n",
       "      <th>1</th>\n",
       "      <td>2004-02-10 00:20:00</td>\n",
       "      <td>-262.419589</td>\n",
       "      <td>608.673154</td>\n",
       "      <td>592.969700</td>\n",
       "      <td>187.215634</td>\n",
       "      <td>166.745571</td>\n",
       "      <td>192.030254</td>\n",
       "      <td>176.653573</td>\n",
       "      <td>196.170460</td>\n",
       "      <td>200.019155</td>\n",
       "      <td>200.922434</td>\n",
       "      <td>392.348776</td>\n",
       "      <td>-275.504699</td>\n",
       "    </tr>\n",
       "    <tr>\n",
       "      <th>2</th>\n",
       "      <td>2004-02-10 00:21:00</td>\n",
       "      <td>-262.366959</td>\n",
       "      <td>608.409394</td>\n",
       "      <td>592.743306</td>\n",
       "      <td>187.940252</td>\n",
       "      <td>168.259520</td>\n",
       "      <td>193.003088</td>\n",
       "      <td>177.554675</td>\n",
       "      <td>197.158696</td>\n",
       "      <td>201.026326</td>\n",
       "      <td>201.924172</td>\n",
       "      <td>391.215893</td>\n",
       "      <td>-275.501026</td>\n",
       "    </tr>\n",
       "    <tr>\n",
       "      <th>3</th>\n",
       "      <td>2004-02-10 00:22:00</td>\n",
       "      <td>-262.307499</td>\n",
       "      <td>608.158351</td>\n",
       "      <td>592.556476</td>\n",
       "      <td>188.738833</td>\n",
       "      <td>169.978874</td>\n",
       "      <td>194.022050</td>\n",
       "      <td>178.519234</td>\n",
       "      <td>198.210612</td>\n",
       "      <td>202.087285</td>\n",
       "      <td>202.980374</td>\n",
       "      <td>389.866784</td>\n",
       "      <td>-275.497412</td>\n",
       "    </tr>\n",
       "    <tr>\n",
       "      <th>4</th>\n",
       "      <td>2004-02-10 00:23:00</td>\n",
       "      <td>-262.241116</td>\n",
       "      <td>607.919711</td>\n",
       "      <td>592.409053</td>\n",
       "      <td>189.599648</td>\n",
       "      <td>171.717993</td>\n",
       "      <td>195.089164</td>\n",
       "      <td>179.539890</td>\n",
       "      <td>199.316442</td>\n",
       "      <td>203.209051</td>\n",
       "      <td>204.086014</td>\n",
       "      <td>389.843403</td>\n",
       "      <td>-275.494187</td>\n",
       "    </tr>\n",
       "  </tbody>\n",
       "</table>\n",
       "</div>"
      ],
      "text/plain": [
       "             Timestamp  P1__20__mean  T1__20__mean  T2__20__mean  \\\n",
       "0  2004-02-10 00:19:00   -262.465391    608.949474    593.235658   \n",
       "1  2004-02-10 00:20:00   -262.419589    608.673154    592.969700   \n",
       "2  2004-02-10 00:21:00   -262.366959    608.409394    592.743306   \n",
       "3  2004-02-10 00:22:00   -262.307499    608.158351    592.556476   \n",
       "4  2004-02-10 00:23:00   -262.241116    607.919711    592.409053   \n",
       "\n",
       "   Ta1__20__mean  Ta3__20__mean  Ta4__20__mean  Ta5__20__mean  Ta6__20__mean  \\\n",
       "0     186.540047     165.314170     191.088443     175.791580     195.231898   \n",
       "1     187.215634     166.745571     192.030254     176.653573     196.170460   \n",
       "2     187.940252     168.259520     193.003088     177.554675     197.158696   \n",
       "3     188.738833     169.978874     194.022050     178.519234     198.210612   \n",
       "4     189.599648     171.717993     195.089164     179.539890     199.316442   \n",
       "\n",
       "   Ta7__20__mean  Ta8__20__mean  Ta_q__20__mean  power__20__mean  \n",
       "0     199.067122     199.996150      392.393162      -275.507592  \n",
       "1     200.019155     200.922434      392.348776      -275.504699  \n",
       "2     201.026326     201.924172      391.215893      -275.501026  \n",
       "3     202.087285     202.980374      389.866784      -275.497412  \n",
       "4     203.209051     204.086014      389.843403      -275.494187  "
      ]
     },
     "execution_count": 43,
     "metadata": {},
     "output_type": "execute_result"
    }
   ],
   "source": [
    "new_df.head()"
   ]
  },
  {
   "cell_type": "code",
   "execution_count": 44,
   "id": "d47ce157-5201-4358-ad62-738afda8d63a",
   "metadata": {},
   "outputs": [],
   "source": [
    "power_df = df.iloc[:200, :]\n",
    "power_df = power_df.iloc[: , 13:14].values"
   ]
  },
  {
   "cell_type": "code",
   "execution_count": 45,
   "id": "4a9c5674-d013-4462-b96e-f624edfd663d",
   "metadata": {},
   "outputs": [],
   "source": [
    "power_mean = new_df.iloc[:200, :]\n",
    "power_mean = power_mean.iloc[: , 12:13].values"
   ]
  },
  {
   "cell_type": "code",
   "execution_count": 46,
   "id": "77189f74-16a9-4846-80db-120711f600b5",
   "metadata": {},
   "outputs": [
    {
     "data": {
      "image/png": "[encoded data removed]",
      "text/plain": [
       "<Figure size 432x288 with 1 Axes>"
      ]
     },
     "metadata": {
      "needs_background": "light"
     },
     "output_type": "display_data"
    }
   ],
   "source": [
    "# WIZUALIZACJA WYNIKÓW NA PRZYKLADZIE ZMIENNEJ POWER\n",
    "plt.plot(power_df, color = 'red', label = 'Real power')\n",
    "plt.plot(power_mean, color = 'blue', label = 'Power moving avarage')\n",
    "plt.title('Power moving avarage')\n",
    "plt.xlabel('Time')\n",
    "plt.ylabel('Value')\n",
    "plt.legend()\n",
    "plt.show()"
   ]
  },
  {
   "cell_type": "code",
   "execution_count": null,
   "id": "7400aa15-f8fe-4a80-b20a-c46b3d195c92",
   "metadata": {},
   "outputs": [],
   "source": []
  }
 ],
 "metadata": {
  "kernelspec": {
   "display_name": "Python 3 (ipykernel)",
   "language": "python",
   "name": "python3"
  },
  "language_info": {
   "codemirror_mode": {
    "name": "ipython",
    "version": 3
   },
   "file_extension": ".py",
   "mimetype": "text/x-python",
   "name": "python",
   "nbconvert_exporter": "python",
   "pygments_lexer": "ipython3",
   "version": "3.7.9"
  }
 },
 "nbformat": 4,
 "nbformat_minor": 5
}
