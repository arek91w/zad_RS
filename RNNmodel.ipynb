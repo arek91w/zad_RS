{
 "cells": [
  {
   "cell_type": "code",
   "execution_count": 1,
   "id": "48f0fee7-1327-45d3-ad65-9975328e0236",
   "metadata": {},
   "outputs": [],
   "source": [
    "import numpy as np\n",
    "import matplotlib.pyplot as plt\n",
    "import pandas as pd"
   ]
  },
  {
   "cell_type": "code",
   "execution_count": 2,
   "id": "eb4d747c-7c41-4c00-9747-770beea31780",
   "metadata": {},
   "outputs": [],
   "source": [
    "# Load dataframe\n",
    "df = pd.read_csv('df_task_final.csv')"
   ]
  },
  {
   "cell_type": "code",
   "execution_count": 3,
   "id": "85d53f53-6816-44f3-bc40-4d1dbad85ef9",
   "metadata": {},
   "outputs": [],
   "source": [
    "df['Ta4'] = df['Ta4'].str.replace(',','.')"
   ]
  },
  {
   "cell_type": "code",
   "execution_count": 4,
   "id": "cdf67e9f-1802-4073-8c39-58a233e91821",
   "metadata": {},
   "outputs": [
    {
     "data": {
      "text/html": [
       "<div>\n",
       "<style scoped>\n",
       "    .dataframe tbody tr th:only-of-type {\n",
       "        vertical-align: middle;\n",
       "    }\n",
       "\n",
       "    .dataframe tbody tr th {\n",
       "        vertical-align: top;\n",
       "    }\n",
       "\n",
       "    .dataframe thead th {\n",
       "        text-align: right;\n",
       "    }\n",
       "</style>\n",
       "<table border=\"1\" class=\"dataframe\">\n",
       "  <thead>\n",
       "    <tr style=\"text-align: right;\">\n",
       "      <th></th>\n",
       "      <th>Timestamp</th>\n",
       "      <th>P1</th>\n",
       "      <th>T1</th>\n",
       "      <th>T2</th>\n",
       "      <th>Ta1</th>\n",
       "      <th>Ta3</th>\n",
       "      <th>Ta4</th>\n",
       "      <th>Ta5</th>\n",
       "      <th>Ta6</th>\n",
       "      <th>Ta7</th>\n",
       "      <th>Ta8</th>\n",
       "      <th>Ta_q</th>\n",
       "      <th>v_1</th>\n",
       "      <th>power</th>\n",
       "    </tr>\n",
       "  </thead>\n",
       "  <tbody>\n",
       "    <tr>\n",
       "      <th>0</th>\n",
       "      <td>2004-02-10 00:00:00</td>\n",
       "      <td>-262.572912</td>\n",
       "      <td>611.95100</td>\n",
       "      <td>598.11930</td>\n",
       "      <td>181.534245</td>\n",
       "      <td>155.791908</td>\n",
       "      <td>183.5510776</td>\n",
       "      <td>168.972999</td>\n",
       "      <td>187.873896</td>\n",
       "      <td>191.665459</td>\n",
       "      <td>192.628790</td>\n",
       "      <td>389.347742</td>\n",
       "      <td>low</td>\n",
       "      <td>-275.511342</td>\n",
       "    </tr>\n",
       "    <tr>\n",
       "      <th>1</th>\n",
       "      <td>2004-02-10 00:01:00</td>\n",
       "      <td>-262.502827</td>\n",
       "      <td>611.60874</td>\n",
       "      <td>597.32802</td>\n",
       "      <td>182.118922</td>\n",
       "      <td>155.203158</td>\n",
       "      <td>184.3680832</td>\n",
       "      <td>169.471913</td>\n",
       "      <td>188.462358</td>\n",
       "      <td>192.330486</td>\n",
       "      <td>193.248012</td>\n",
       "      <td>414.523798</td>\n",
       "      <td>low</td>\n",
       "      <td>-275.519129</td>\n",
       "    </tr>\n",
       "    <tr>\n",
       "      <th>2</th>\n",
       "      <td>2004-02-10 00:02:00</td>\n",
       "      <td>-262.432774</td>\n",
       "      <td>611.26648</td>\n",
       "      <td>596.53674</td>\n",
       "      <td>183.047085</td>\n",
       "      <td>153.407394</td>\n",
       "      <td>185.1172925</td>\n",
       "      <td>170.123189</td>\n",
       "      <td>189.107933</td>\n",
       "      <td>193.000879</td>\n",
       "      <td>194.033012</td>\n",
       "      <td>396.883613</td>\n",
       "      <td>low</td>\n",
       "      <td>-275.521336</td>\n",
       "    </tr>\n",
       "    <tr>\n",
       "      <th>3</th>\n",
       "      <td>2004-02-10 00:03:00</td>\n",
       "      <td>-262.362689</td>\n",
       "      <td>610.92736</td>\n",
       "      <td>595.74860</td>\n",
       "      <td>183.826767</td>\n",
       "      <td>154.870932</td>\n",
       "      <td>186.0627518</td>\n",
       "      <td>171.123891</td>\n",
       "      <td>190.142222</td>\n",
       "      <td>193.977434</td>\n",
       "      <td>194.888348</td>\n",
       "      <td>383.059752</td>\n",
       "      <td>low</td>\n",
       "      <td>-275.521336</td>\n",
       "    </tr>\n",
       "    <tr>\n",
       "      <th>4</th>\n",
       "      <td>2004-02-10 00:04:00</td>\n",
       "      <td>-262.292604</td>\n",
       "      <td>610.58510</td>\n",
       "      <td>594.95732</td>\n",
       "      <td>184.579713</td>\n",
       "      <td>156.397284</td>\n",
       "      <td>186.6565326</td>\n",
       "      <td>171.687200</td>\n",
       "      <td>190.586563</td>\n",
       "      <td>194.514055</td>\n",
       "      <td>195.600808</td>\n",
       "      <td>386.056265</td>\n",
       "      <td>low</td>\n",
       "      <td>-275.521336</td>\n",
       "    </tr>\n",
       "  </tbody>\n",
       "</table>\n",
       "</div>"
      ],
      "text/plain": [
       "             Timestamp          P1         T1         T2         Ta1  \\\n",
       "0  2004-02-10 00:00:00 -262.572912  611.95100  598.11930  181.534245   \n",
       "1  2004-02-10 00:01:00 -262.502827  611.60874  597.32802  182.118922   \n",
       "2  2004-02-10 00:02:00 -262.432774  611.26648  596.53674  183.047085   \n",
       "3  2004-02-10 00:03:00 -262.362689  610.92736  595.74860  183.826767   \n",
       "4  2004-02-10 00:04:00 -262.292604  610.58510  594.95732  184.579713   \n",
       "\n",
       "          Ta3          Ta4         Ta5         Ta6         Ta7         Ta8  \\\n",
       "0  155.791908  183.5510776  168.972999  187.873896  191.665459  192.628790   \n",
       "1  155.203158  184.3680832  169.471913  188.462358  192.330486  193.248012   \n",
       "2  153.407394  185.1172925  170.123189  189.107933  193.000879  194.033012   \n",
       "3  154.870932  186.0627518  171.123891  190.142222  193.977434  194.888348   \n",
       "4  156.397284  186.6565326  171.687200  190.586563  194.514055  195.600808   \n",
       "\n",
       "         Ta_q  v_1       power  \n",
       "0  389.347742  low -275.511342  \n",
       "1  414.523798  low -275.519129  \n",
       "2  396.883613  low -275.521336  \n",
       "3  383.059752  low -275.521336  \n",
       "4  386.056265  low -275.521336  "
      ]
     },
     "execution_count": 4,
     "metadata": {},
     "output_type": "execute_result"
    }
   ],
   "source": [
    "df.head()"
   ]
  },
  {
   "cell_type": "code",
   "execution_count": 5,
   "id": "aaa405cd-8592-4949-95b1-3c7210879b8c",
   "metadata": {},
   "outputs": [
    {
     "name": "stdout",
     "output_type": "stream",
     "text": [
      "30241\n"
     ]
    }
   ],
   "source": [
    "print(len(df.index))"
   ]
  },
  {
   "cell_type": "code",
   "execution_count": 6,
   "id": "6a32b463-59a9-4165-b080-946536a22358",
   "metadata": {},
   "outputs": [],
   "source": [
    "dataset_train = df.iloc[:24192, :]"
   ]
  },
  {
   "cell_type": "code",
   "execution_count": 7,
   "id": "247d5f65-1976-41a5-98ea-a227f9c5d337",
   "metadata": {},
   "outputs": [],
   "source": [
    "dataset_test = df.iloc[24192:, :]"
   ]
  },
  {
   "cell_type": "code",
   "execution_count": 8,
   "id": "c68a168b-cf16-4d5d-b542-782f85df6f87",
   "metadata": {},
   "outputs": [
    {
     "name": "stdout",
     "output_type": "stream",
     "text": [
      "24192\n",
      "6049\n"
     ]
    }
   ],
   "source": [
    "print(len(dataset_train.index))\n",
    "print(len(dataset_test.index))"
   ]
  },
  {
   "cell_type": "code",
   "execution_count": 9,
   "id": "c4381dc0-af2b-4196-bc43-4b024fcb004b",
   "metadata": {},
   "outputs": [],
   "source": [
    "training_set = dataset_train.iloc[: , 13:14].values"
   ]
  },
  {
   "cell_type": "code",
   "execution_count": 10,
   "id": "de726c0d-087e-4f37-ad44-042e30c86051",
   "metadata": {},
   "outputs": [
    {
     "name": "stdout",
     "output_type": "stream",
     "text": [
      "[[-275.51134166]\n",
      " [-275.51912886]\n",
      " [-275.52133628]\n",
      " ...\n",
      " [1066.41262   ]\n",
      " [1065.6025    ]\n",
      " [1064.79552   ]]\n"
     ]
    }
   ],
   "source": [
    "print(training_set)"
   ]
  },
  {
   "cell_type": "code",
   "execution_count": 11,
   "id": "b75e8aa5-df57-4c4f-b256-674d6bde458e",
   "metadata": {},
   "outputs": [],
   "source": [
    "# Normalization\n",
    "from sklearn.preprocessing import MinMaxScaler"
   ]
  },
  {
   "cell_type": "code",
   "execution_count": 12,
   "id": "a04e1691-9be7-4c35-b5f3-74117deb79db",
   "metadata": {},
   "outputs": [],
   "source": [
    "sc = MinMaxScaler(feature_range= (0, 1))"
   ]
  },
  {
   "cell_type": "code",
   "execution_count": 13,
   "id": "e308ad95-2cbc-49cf-95db-239f11285942",
   "metadata": {},
   "outputs": [],
   "source": [
    "training_set_scaled = sc.fit_transform(training_set)"
   ]
  },
  {
   "cell_type": "code",
   "execution_count": 14,
   "id": "06eba791-1528-4734-80c2-e7824dc35732",
   "metadata": {},
   "outputs": [
    {
     "name": "stdout",
     "output_type": "stream",
     "text": [
      "[[6.17097942e-05]\n",
      " [5.60991959e-05]\n",
      " [5.45087723e-05]\n",
      " ...\n",
      " [9.66904257e-01]\n",
      " [9.66320574e-01]\n",
      " [9.65739153e-01]]\n"
     ]
    }
   ],
   "source": [
    "print(training_set_scaled)"
   ]
  },
  {
   "cell_type": "code",
   "execution_count": 15,
   "id": "cee80373-db61-426d-acf8-4841b6117ae2",
   "metadata": {},
   "outputs": [],
   "source": [
    "# Creating a data structure with 40 periods and 1 output\n",
    "X_train = []\n",
    "y_train = []"
   ]
  },
  {
   "cell_type": "code",
   "execution_count": 16,
   "id": "0fef4261-84ed-46f7-8702-ab0fe61e4476",
   "metadata": {},
   "outputs": [],
   "source": [
    "for i in range(40, 24191):\n",
    "    X_train.append(training_set_scaled[i-40:i, 0])\n",
    "    y_train.append(training_set_scaled[i+1, 0])\n",
    "X_train, y_train = np.array(X_train), np.array(y_train)"
   ]
  },
  {
   "cell_type": "code",
   "execution_count": 17,
   "id": "f881b1d6-c8d4-49ee-a7f6-f18d8d1d5c23",
   "metadata": {},
   "outputs": [],
   "source": [
    "X_train = np.reshape(X_train, (X_train.shape[0], X_train.shape[1], 1))"
   ]
  },
  {
   "cell_type": "code",
   "execution_count": 18,
   "id": "68d7b091-4d37-4528-9262-d1c27b907336",
   "metadata": {},
   "outputs": [
    {
     "name": "stdout",
     "output_type": "stream",
     "text": [
      "24151\n",
      "24151\n"
     ]
    }
   ],
   "source": [
    "print(len(y_train))\n",
    "print(len(X_train))"
   ]
  },
  {
   "cell_type": "code",
   "execution_count": 19,
   "id": "e3e8b32a-80f8-45e3-b49e-c48695b566d2",
   "metadata": {},
   "outputs": [],
   "source": [
    "# Importing the keras libraries and packages\n",
    "from keras.models import Sequential\n",
    "from keras.layers import Dense\n",
    "from keras.layers import LSTM\n",
    "from keras.layers import Dropout"
   ]
  },
  {
   "cell_type": "code",
   "execution_count": 20,
   "id": "41d13237-80b1-4c30-adfd-1f40239ef24e",
   "metadata": {},
   "outputs": [],
   "source": [
    "regressor = Sequential()"
   ]
  },
  {
   "cell_type": "code",
   "execution_count": 21,
   "id": "d8aad684-de3b-49ba-bed2-29c1526d6b6b",
   "metadata": {},
   "outputs": [],
   "source": [
    "regressor.add(LSTM(units = 50, return_sequences = True, input_shape = (X_train.shape[1], 1)))"
   ]
  },
  {
   "cell_type": "code",
   "execution_count": 22,
   "id": "2556fc42-30f3-4ea6-98c4-e9ed8d13f206",
   "metadata": {},
   "outputs": [],
   "source": [
    "regressor.add(Dropout(0.2))"
   ]
  },
  {
   "cell_type": "code",
   "execution_count": 23,
   "id": "b92f0e29-4821-451f-a4e1-6be113c13fe0",
   "metadata": {},
   "outputs": [],
   "source": [
    "regressor.add(LSTM(units = 50, return_sequences = True))"
   ]
  },
  {
   "cell_type": "code",
   "execution_count": 24,
   "id": "ceb127bc-2695-4e12-a752-1b612da9fa8f",
   "metadata": {},
   "outputs": [],
   "source": [
    "regressor.add(Dropout(0.2))"
   ]
  },
  {
   "cell_type": "code",
   "execution_count": 25,
   "id": "30ba8999-1a86-4d07-a5df-036198a5236e",
   "metadata": {},
   "outputs": [],
   "source": [
    "regressor.add(LSTM(units = 50, return_sequences = True))"
   ]
  },
  {
   "cell_type": "code",
   "execution_count": 26,
   "id": "bcbd4f73-76d6-4187-a097-3dd7040cabcd",
   "metadata": {},
   "outputs": [],
   "source": [
    "regressor.add(Dropout(0.2))"
   ]
  },
  {
   "cell_type": "code",
   "execution_count": 27,
   "id": "8584b593-58f3-4952-b3af-2a588236f1e1",
   "metadata": {},
   "outputs": [],
   "source": [
    "regressor.add(LSTM(units = 50))"
   ]
  },
  {
   "cell_type": "code",
   "execution_count": 28,
   "id": "3348f0da-97d6-4263-8de4-c8c7cce253df",
   "metadata": {},
   "outputs": [],
   "source": [
    "regressor.add(Dropout(0.2))"
   ]
  },
  {
   "cell_type": "code",
   "execution_count": 29,
   "id": "8dbc4db8-f218-4d78-98a6-d516c0bfc574",
   "metadata": {},
   "outputs": [],
   "source": [
    "regressor.add(Dense(units = 1))"
   ]
  },
  {
   "cell_type": "code",
   "execution_count": 30,
   "id": "e77ce20c-205a-4f35-8d2d-641bbcee1441",
   "metadata": {},
   "outputs": [],
   "source": [
    "regressor.compile(optimizer = 'adam', loss = 'mean_squared_error')"
   ]
  },
  {
   "cell_type": "code",
   "execution_count": 31,
   "id": "1099ea14-def5-4662-a756-70388343fb94",
   "metadata": {},
   "outputs": [
    {
     "name": "stdout",
     "output_type": "stream",
     "text": [
      "Epoch 1/25\n",
      "755/755 [==============================] - 101s 125ms/step - loss: 0.0117\n",
      "Epoch 2/25\n",
      "755/755 [==============================] - 94s 125ms/step - loss: 0.0046\n",
      "Epoch 3/25\n",
      "755/755 [==============================] - 95s 126ms/step - loss: 0.0035\n",
      "Epoch 4/25\n",
      "755/755 [==============================] - 94s 125ms/step - loss: 0.0027\n",
      "Epoch 5/25\n",
      "755/755 [==============================] - 94s 125ms/step - loss: 0.0021\n",
      "Epoch 6/25\n",
      "755/755 [==============================] - 94s 124ms/step - loss: 0.0017\n",
      "Epoch 7/25\n",
      "755/755 [==============================] - 94s 125ms/step - loss: 0.0013\n",
      "Epoch 8/25\n",
      "755/755 [==============================] - 96s 127ms/step - loss: 0.0010\n",
      "Epoch 9/25\n",
      "755/755 [==============================] - 96s 128ms/step - loss: 9.3685e-04\n",
      "Epoch 10/25\n",
      "755/755 [==============================] - 98s 130ms/step - loss: 7.9614e-04\n",
      "Epoch 11/25\n",
      "755/755 [==============================] - 99s 131ms/step - loss: 7.1039e-04\n",
      "Epoch 12/25\n",
      "755/755 [==============================] - 98s 130ms/step - loss: 7.1071e-04\n",
      "Epoch 13/25\n",
      "755/755 [==============================] - 96s 127ms/step - loss: 6.2807e-04\n",
      "Epoch 14/25\n",
      "755/755 [==============================] - 94s 125ms/step - loss: 6.0825e-04\n",
      "Epoch 15/25\n",
      "755/755 [==============================] - 96s 127ms/step - loss: 5.6995e-04\n",
      "Epoch 16/25\n",
      "755/755 [==============================] - 95s 126ms/step - loss: 5.3160e-04\n",
      "Epoch 17/25\n",
      "755/755 [==============================] - 95s 125ms/step - loss: 5.2671e-04\n",
      "Epoch 18/25\n",
      "755/755 [==============================] - 94s 125ms/step - loss: 4.8675e-04\n",
      "Epoch 19/25\n",
      "755/755 [==============================] - 94s 125ms/step - loss: 4.7767e-04\n",
      "Epoch 20/25\n",
      "755/755 [==============================] - 94s 125ms/step - loss: 4.8847e-04\n",
      "Epoch 21/25\n",
      "755/755 [==============================] - 94s 125ms/step - loss: 4.7119e-04\n",
      "Epoch 22/25\n",
      "755/755 [==============================] - 94s 125ms/step - loss: 4.6520e-04\n",
      "Epoch 23/25\n",
      "755/755 [==============================] - 94s 125ms/step - loss: 4.2423e-04\n",
      "Epoch 24/25\n",
      "755/755 [==============================] - 94s 125ms/step - loss: 4.2830e-04\n",
      "Epoch 25/25\n",
      "755/755 [==============================] - 94s 125ms/step - loss: 4.3821e-04\n"
     ]
    },
    {
     "data": {
      "text/plain": [
       "<keras.callbacks.History at 0x156aa9cd8d0>"
      ]
     },
     "execution_count": 31,
     "metadata": {},
     "output_type": "execute_result"
    }
   ],
   "source": [
    "regressor.fit(X_train, y_train, epochs = 25, batch_size = 32)"
   ]
  },
  {
   "cell_type": "code",
   "execution_count": 33,
   "id": "3561eafd-ca68-4e60-acb5-5165f8d4a13f",
   "metadata": {},
   "outputs": [],
   "source": [
    "real_power_value = dataset_test.iloc[: , 13:14].values"
   ]
  },
  {
   "cell_type": "code",
   "execution_count": 39,
   "id": "0de3b3c3-191c-462a-9228-0753f3ac77ef",
   "metadata": {},
   "outputs": [
    {
     "name": "stdout",
     "output_type": "stream",
     "text": [
      "6049\n"
     ]
    }
   ],
   "source": [
    "print(len(real_power_value))"
   ]
  },
  {
   "cell_type": "code",
   "execution_count": 34,
   "id": "5b014fc0-5684-4d70-96a6-76f0d318b9c0",
   "metadata": {},
   "outputs": [],
   "source": [
    "dataset_total = df['power']"
   ]
  },
  {
   "cell_type": "code",
   "execution_count": 35,
   "id": "22100f8a-b180-48b5-ac89-0c6d7c785b65",
   "metadata": {},
   "outputs": [],
   "source": [
    "inputs = dataset_total[len(dataset_total) - len(dataset_test) - 40:].values"
   ]
  },
  {
   "cell_type": "code",
   "execution_count": 37,
   "id": "fd955676-5e8d-4362-8bb9-20faec31b2ae",
   "metadata": {},
   "outputs": [],
   "source": [
    "inputs = inputs.reshape(-1, 1)"
   ]
  },
  {
   "cell_type": "code",
   "execution_count": 38,
   "id": "f30d67b3-ef8a-4ee6-8b13-8d31e33aea96",
   "metadata": {},
   "outputs": [],
   "source": [
    "inputs = sc.transform(inputs)"
   ]
  },
  {
   "cell_type": "code",
   "execution_count": 40,
   "id": "03961367-a7aa-4e23-8513-ed2dd6ee08e4",
   "metadata": {},
   "outputs": [],
   "source": [
    "X_test = []\n",
    "for i in range(40, 6089):\n",
    "    X_test.append(inputs[i-40:i, 0])\n",
    "X_test = np.array(X_test)"
   ]
  },
  {
   "cell_type": "code",
   "execution_count": 41,
   "id": "e277f274-5206-4f7e-8022-0e60b5d0c9bb",
   "metadata": {},
   "outputs": [],
   "source": [
    "X_test = np.reshape(X_test, (X_test.shape[0], X_test.shape[1], 1))"
   ]
  },
  {
   "cell_type": "code",
   "execution_count": 42,
   "id": "a390fc0f-df92-4090-83ea-f2a56351ff91",
   "metadata": {},
   "outputs": [],
   "source": [
    "predicted_power_value = regressor.predict(X_test)"
   ]
  },
  {
   "cell_type": "code",
   "execution_count": 43,
   "id": "4fa145ba-b172-4747-bb86-19a0013f5ad1",
   "metadata": {},
   "outputs": [],
   "source": [
    "predicted_power_value = sc.inverse_transform(predicted_power_value)"
   ]
  },
  {
   "cell_type": "code",
   "execution_count": 45,
   "id": "4aca5814-97c4-44f3-8dee-2394747a1633",
   "metadata": {},
   "outputs": [
    {
     "data": {
      "image/png": "[encoded data removed]",
      "text/plain": [
       "<Figure size 432x288 with 1 Axes>"
      ]
     },
     "metadata": {
      "needs_background": "light"
     },
     "output_type": "display_data"
    }
   ],
   "source": [
    "# WIZUALIZACJA WYNIKÓW\n",
    "plt.plot(real_power_value, color = 'red', label = 'Real power value')\n",
    "plt.plot(predicted_power_value, color = 'blue', label = 'Predicted power value')\n",
    "plt.title('Power value prediction')\n",
    "plt.xlabel('Time')\n",
    "plt.ylabel('Value')\n",
    "plt.legend()\n",
    "plt.show()"
   ]
  },
  {
   "cell_type": "code",
   "execution_count": null,
   "id": "ff4f1658-60b2-4638-b53f-136b96e41e2a",
   "metadata": {},
   "outputs": [],
   "source": []
  }
 ],
 "metadata": {
  "kernelspec": {
   "display_name": "Python 3",
   "language": "python",
   "name": "python3"
  },
  "language_info": {
   "codemirror_mode": {
    "name": "ipython",
    "version": 3
   },
   "file_extension": ".py",
   "mimetype": "text/x-python",
   "name": "python",
   "nbconvert_exporter": "python",
   "pygments_lexer": "ipython3",
   "version": "3.6.8"
  }
 },
 "nbformat": 4,
 "nbformat_minor": 5
}
