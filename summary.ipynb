{
 "cells": [
  {
   "cell_type": "code",
   "execution_count": 1,
   "id": "1d2d3178-cd35-48e1-9482-bcc46ded2a91",
   "metadata": {},
   "outputs": [],
   "source": [
    "import numpy as np\n",
    "import matplotlib.pyplot as plt\n",
    "import pandas as pd"
   ]
  },
  {
   "cell_type": "code",
   "execution_count": 51,
   "id": "6779af11-76cb-4b4b-9057-181ef7307fa5",
   "metadata": {},
   "outputs": [],
   "source": [
    "# Wczytanie danych oraz przeksztalcenie kolumny 'Ta4'\n",
    "df = pd.read_csv('df_task_final.csv')"
   ]
  },
  {
   "cell_type": "code",
   "execution_count": 34,
   "id": "4b8afbc8-0257-43df-9029-fb69fcb20cc2",
   "metadata": {},
   "outputs": [],
   "source": [
    "df['Ta4'] = df['Ta4'].str.replace(',','.')\n",
    "df['Ta4'] = df['Ta4'].astype('float64')"
   ]
  },
  {
   "cell_type": "code",
   "execution_count": 42,
   "id": "f2c3b904-9197-4305-8554-32580d8804de",
   "metadata": {},
   "outputs": [
    {
     "data": {
      "text/html": [
       "<div>\n",
       "<style scoped>\n",
       "    .dataframe tbody tr th:only-of-type {\n",
       "        vertical-align: middle;\n",
       "    }\n",
       "\n",
       "    .dataframe tbody tr th {\n",
       "        vertical-align: top;\n",
       "    }\n",
       "\n",
       "    .dataframe thead th {\n",
       "        text-align: right;\n",
       "    }\n",
       "</style>\n",
       "<table border=\"1\" class=\"dataframe\">\n",
       "  <thead>\n",
       "    <tr style=\"text-align: right;\">\n",
       "      <th></th>\n",
       "      <th>Timestamp</th>\n",
       "      <th>P1</th>\n",
       "      <th>T1</th>\n",
       "      <th>T2</th>\n",
       "      <th>Ta1</th>\n",
       "      <th>Ta3</th>\n",
       "      <th>Ta4</th>\n",
       "      <th>Ta5</th>\n",
       "      <th>Ta6</th>\n",
       "      <th>Ta7</th>\n",
       "      <th>Ta8</th>\n",
       "      <th>Ta_q</th>\n",
       "      <th>v_1</th>\n",
       "      <th>power</th>\n",
       "    </tr>\n",
       "  </thead>\n",
       "  <tbody>\n",
       "    <tr>\n",
       "      <th>0</th>\n",
       "      <td>2004-02-10 00:00:00</td>\n",
       "      <td>-262.572912</td>\n",
       "      <td>611.95100</td>\n",
       "      <td>598.11930</td>\n",
       "      <td>181.534245</td>\n",
       "      <td>155.791908</td>\n",
       "      <td>183,5510776</td>\n",
       "      <td>168.972999</td>\n",
       "      <td>187.873896</td>\n",
       "      <td>191.665459</td>\n",
       "      <td>192.628790</td>\n",
       "      <td>389.347742</td>\n",
       "      <td>low</td>\n",
       "      <td>-275.511342</td>\n",
       "    </tr>\n",
       "    <tr>\n",
       "      <th>1</th>\n",
       "      <td>2004-02-10 00:01:00</td>\n",
       "      <td>-262.502827</td>\n",
       "      <td>611.60874</td>\n",
       "      <td>597.32802</td>\n",
       "      <td>182.118922</td>\n",
       "      <td>155.203158</td>\n",
       "      <td>184,3680832</td>\n",
       "      <td>169.471913</td>\n",
       "      <td>188.462358</td>\n",
       "      <td>192.330486</td>\n",
       "      <td>193.248012</td>\n",
       "      <td>414.523798</td>\n",
       "      <td>low</td>\n",
       "      <td>-275.519129</td>\n",
       "    </tr>\n",
       "    <tr>\n",
       "      <th>2</th>\n",
       "      <td>2004-02-10 00:02:00</td>\n",
       "      <td>-262.432774</td>\n",
       "      <td>611.26648</td>\n",
       "      <td>596.53674</td>\n",
       "      <td>183.047085</td>\n",
       "      <td>153.407394</td>\n",
       "      <td>185,1172925</td>\n",
       "      <td>170.123189</td>\n",
       "      <td>189.107933</td>\n",
       "      <td>193.000879</td>\n",
       "      <td>194.033012</td>\n",
       "      <td>396.883613</td>\n",
       "      <td>low</td>\n",
       "      <td>-275.521336</td>\n",
       "    </tr>\n",
       "    <tr>\n",
       "      <th>3</th>\n",
       "      <td>2004-02-10 00:03:00</td>\n",
       "      <td>-262.362689</td>\n",
       "      <td>610.92736</td>\n",
       "      <td>595.74860</td>\n",
       "      <td>183.826767</td>\n",
       "      <td>154.870932</td>\n",
       "      <td>186,0627518</td>\n",
       "      <td>171.123891</td>\n",
       "      <td>190.142222</td>\n",
       "      <td>193.977434</td>\n",
       "      <td>194.888348</td>\n",
       "      <td>383.059752</td>\n",
       "      <td>low</td>\n",
       "      <td>-275.521336</td>\n",
       "    </tr>\n",
       "    <tr>\n",
       "      <th>4</th>\n",
       "      <td>2004-02-10 00:04:00</td>\n",
       "      <td>-262.292604</td>\n",
       "      <td>610.58510</td>\n",
       "      <td>594.95732</td>\n",
       "      <td>184.579713</td>\n",
       "      <td>156.397284</td>\n",
       "      <td>186,6565326</td>\n",
       "      <td>171.687200</td>\n",
       "      <td>190.586563</td>\n",
       "      <td>194.514055</td>\n",
       "      <td>195.600808</td>\n",
       "      <td>386.056265</td>\n",
       "      <td>low</td>\n",
       "      <td>-275.521336</td>\n",
       "    </tr>\n",
       "  </tbody>\n",
       "</table>\n",
       "</div>"
      ],
      "text/plain": [
       "             Timestamp          P1         T1         T2         Ta1  \\\n",
       "0  2004-02-10 00:00:00 -262.572912  611.95100  598.11930  181.534245   \n",
       "1  2004-02-10 00:01:00 -262.502827  611.60874  597.32802  182.118922   \n",
       "2  2004-02-10 00:02:00 -262.432774  611.26648  596.53674  183.047085   \n",
       "3  2004-02-10 00:03:00 -262.362689  610.92736  595.74860  183.826767   \n",
       "4  2004-02-10 00:04:00 -262.292604  610.58510  594.95732  184.579713   \n",
       "\n",
       "          Ta3          Ta4         Ta5         Ta6         Ta7         Ta8  \\\n",
       "0  155.791908  183,5510776  168.972999  187.873896  191.665459  192.628790   \n",
       "1  155.203158  184,3680832  169.471913  188.462358  192.330486  193.248012   \n",
       "2  153.407394  185,1172925  170.123189  189.107933  193.000879  194.033012   \n",
       "3  154.870932  186,0627518  171.123891  190.142222  193.977434  194.888348   \n",
       "4  156.397284  186,6565326  171.687200  190.586563  194.514055  195.600808   \n",
       "\n",
       "         Ta_q  v_1       power  \n",
       "0  389.347742  low -275.511342  \n",
       "1  414.523798  low -275.519129  \n",
       "2  396.883613  low -275.521336  \n",
       "3  383.059752  low -275.521336  \n",
       "4  386.056265  low -275.521336  "
      ]
     },
     "execution_count": 42,
     "metadata": {},
     "output_type": "execute_result"
    }
   ],
   "source": [
    "# pierwszych 5 obserwacji\n",
    "df.head()"
   ]
  },
  {
   "cell_type": "code",
   "execution_count": 43,
   "id": "4414b53d-6b93-40ca-9603-aab097417d1b",
   "metadata": {},
   "outputs": [
    {
     "name": "stdout",
     "output_type": "stream",
     "text": [
      "<class 'pandas.core.frame.DataFrame'>\n",
      "RangeIndex: 30241 entries, 0 to 30240\n",
      "Data columns (total 14 columns):\n",
      " #   Column     Non-Null Count  Dtype  \n",
      "---  ------     --------------  -----  \n",
      " 0   Timestamp  30241 non-null  object \n",
      " 1   P1         30231 non-null  float64\n",
      " 2   T1         30219 non-null  float64\n",
      " 3   T2         30241 non-null  float64\n",
      " 4   Ta1        30132 non-null  float64\n",
      " 5   Ta3        30171 non-null  float64\n",
      " 6   Ta4        30129 non-null  object \n",
      " 7   Ta5        30168 non-null  float64\n",
      " 8   Ta6        30157 non-null  float64\n",
      " 9   Ta7        30168 non-null  float64\n",
      " 10  Ta8        30168 non-null  float64\n",
      " 11  Ta_q       30169 non-null  float64\n",
      " 12  v_1        30241 non-null  object \n",
      " 13  power      30241 non-null  float64\n",
      "dtypes: float64(11), object(3)\n",
      "memory usage: 3.2+ MB\n"
     ]
    }
   ],
   "source": [
    "# podstawowe informacje\n",
    "df.info()"
   ]
  },
  {
   "cell_type": "code",
   "execution_count": 45,
   "id": "3dcbfc6d-3988-46a5-b619-8b1a8f548e9d",
   "metadata": {},
   "outputs": [
    {
     "data": {
      "text/html": [
       "<div>\n",
       "<style scoped>\n",
       "    .dataframe tbody tr th:only-of-type {\n",
       "        vertical-align: middle;\n",
       "    }\n",
       "\n",
       "    .dataframe tbody tr th {\n",
       "        vertical-align: top;\n",
       "    }\n",
       "\n",
       "    .dataframe thead th {\n",
       "        text-align: right;\n",
       "    }\n",
       "</style>\n",
       "<table border=\"1\" class=\"dataframe\">\n",
       "  <thead>\n",
       "    <tr style=\"text-align: right;\">\n",
       "      <th></th>\n",
       "      <th>P1</th>\n",
       "      <th>T1</th>\n",
       "      <th>T2</th>\n",
       "      <th>Ta1</th>\n",
       "      <th>Ta3</th>\n",
       "      <th>Ta5</th>\n",
       "      <th>Ta6</th>\n",
       "      <th>Ta7</th>\n",
       "      <th>Ta8</th>\n",
       "      <th>Ta_q</th>\n",
       "      <th>power</th>\n",
       "    </tr>\n",
       "  </thead>\n",
       "  <tbody>\n",
       "    <tr>\n",
       "      <th>count</th>\n",
       "      <td>30231.000000</td>\n",
       "      <td>30219.000000</td>\n",
       "      <td>30241.000000</td>\n",
       "      <td>30132.000000</td>\n",
       "      <td>30171.000000</td>\n",
       "      <td>30168.000000</td>\n",
       "      <td>30157.000000</td>\n",
       "      <td>30168.000000</td>\n",
       "      <td>30168.000000</td>\n",
       "      <td>30169.000000</td>\n",
       "      <td>30241.000000</td>\n",
       "    </tr>\n",
       "    <tr>\n",
       "      <th>mean</th>\n",
       "      <td>-145.508880</td>\n",
       "      <td>1527.588187</td>\n",
       "      <td>1527.133659</td>\n",
       "      <td>982.886298</td>\n",
       "      <td>781.369002</td>\n",
       "      <td>968.200036</td>\n",
       "      <td>1006.890481</td>\n",
       "      <td>1042.791981</td>\n",
       "      <td>1047.313660</td>\n",
       "      <td>387.214772</td>\n",
       "      <td>887.202106</td>\n",
       "    </tr>\n",
       "    <tr>\n",
       "      <th>std</th>\n",
       "      <td>27.085915</td>\n",
       "      <td>122.844911</td>\n",
       "      <td>124.735997</td>\n",
       "      <td>83.982212</td>\n",
       "      <td>496.127352</td>\n",
       "      <td>87.296461</td>\n",
       "      <td>90.686632</td>\n",
       "      <td>94.075705</td>\n",
       "      <td>94.474558</td>\n",
       "      <td>17.942195</td>\n",
       "      <td>278.178419</td>\n",
       "    </tr>\n",
       "    <tr>\n",
       "      <th>min</th>\n",
       "      <td>-274.000000</td>\n",
       "      <td>-110.862870</td>\n",
       "      <td>-274.000000</td>\n",
       "      <td>181.534245</td>\n",
       "      <td>-274.000000</td>\n",
       "      <td>168.972999</td>\n",
       "      <td>187.873896</td>\n",
       "      <td>191.665459</td>\n",
       "      <td>192.628790</td>\n",
       "      <td>304.668752</td>\n",
       "      <td>-275.596991</td>\n",
       "    </tr>\n",
       "    <tr>\n",
       "      <th>25%</th>\n",
       "      <td>-154.417653</td>\n",
       "      <td>1544.319050</td>\n",
       "      <td>1544.056860</td>\n",
       "      <td>985.318954</td>\n",
       "      <td>893.381530</td>\n",
       "      <td>970.444871</td>\n",
       "      <td>1009.863380</td>\n",
       "      <td>1046.007350</td>\n",
       "      <td>1050.659639</td>\n",
       "      <td>378.854131</td>\n",
       "      <td>815.448120</td>\n",
       "    </tr>\n",
       "    <tr>\n",
       "      <th>50%</th>\n",
       "      <td>-136.172526</td>\n",
       "      <td>1551.360500</td>\n",
       "      <td>1551.128140</td>\n",
       "      <td>1003.243992</td>\n",
       "      <td>1029.130760</td>\n",
       "      <td>987.941021</td>\n",
       "      <td>1027.707756</td>\n",
       "      <td>1064.701148</td>\n",
       "      <td>1069.277540</td>\n",
       "      <td>390.051792</td>\n",
       "      <td>982.555780</td>\n",
       "    </tr>\n",
       "    <tr>\n",
       "      <th>75%</th>\n",
       "      <td>-126.046183</td>\n",
       "      <td>1553.505120</td>\n",
       "      <td>1553.348120</td>\n",
       "      <td>1013.962254</td>\n",
       "      <td>1051.123936</td>\n",
       "      <td>1001.758197</td>\n",
       "      <td>1039.923580</td>\n",
       "      <td>1077.883048</td>\n",
       "      <td>1082.633536</td>\n",
       "      <td>399.329667</td>\n",
       "      <td>1075.681900</td>\n",
       "    </tr>\n",
       "    <tr>\n",
       "      <th>max</th>\n",
       "      <td>-120.431392</td>\n",
       "      <td>1561.094500</td>\n",
       "      <td>1560.400560</td>\n",
       "      <td>1049.356488</td>\n",
       "      <td>1106.053860</td>\n",
       "      <td>1042.309980</td>\n",
       "      <td>1079.600620</td>\n",
       "      <td>1116.866140</td>\n",
       "      <td>1119.095540</td>\n",
       "      <td>434.849707</td>\n",
       "      <td>1120.998380</td>\n",
       "    </tr>\n",
       "  </tbody>\n",
       "</table>\n",
       "</div>"
      ],
      "text/plain": [
       "                 P1            T1            T2           Ta1           Ta3  \\\n",
       "count  30231.000000  30219.000000  30241.000000  30132.000000  30171.000000   \n",
       "mean    -145.508880   1527.588187   1527.133659    982.886298    781.369002   \n",
       "std       27.085915    122.844911    124.735997     83.982212    496.127352   \n",
       "min     -274.000000   -110.862870   -274.000000    181.534245   -274.000000   \n",
       "25%     -154.417653   1544.319050   1544.056860    985.318954    893.381530   \n",
       "50%     -136.172526   1551.360500   1551.128140   1003.243992   1029.130760   \n",
       "75%     -126.046183   1553.505120   1553.348120   1013.962254   1051.123936   \n",
       "max     -120.431392   1561.094500   1560.400560   1049.356488   1106.053860   \n",
       "\n",
       "                Ta5           Ta6           Ta7           Ta8          Ta_q  \\\n",
       "count  30168.000000  30157.000000  30168.000000  30168.000000  30169.000000   \n",
       "mean     968.200036   1006.890481   1042.791981   1047.313660    387.214772   \n",
       "std       87.296461     90.686632     94.075705     94.474558     17.942195   \n",
       "min      168.972999    187.873896    191.665459    192.628790    304.668752   \n",
       "25%      970.444871   1009.863380   1046.007350   1050.659639    378.854131   \n",
       "50%      987.941021   1027.707756   1064.701148   1069.277540    390.051792   \n",
       "75%     1001.758197   1039.923580   1077.883048   1082.633536    399.329667   \n",
       "max     1042.309980   1079.600620   1116.866140   1119.095540    434.849707   \n",
       "\n",
       "              power  \n",
       "count  30241.000000  \n",
       "mean     887.202106  \n",
       "std      278.178419  \n",
       "min     -275.596991  \n",
       "25%      815.448120  \n",
       "50%      982.555780  \n",
       "75%     1075.681900  \n",
       "max     1120.998380  "
      ]
     },
     "execution_count": 45,
     "metadata": {},
     "output_type": "execute_result"
    }
   ],
   "source": [
    "# zakresy warosci zmiennych oraz ich charakteryystyki statystyczne\n",
    "df.describe()"
   ]
  },
  {
   "cell_type": "code",
   "execution_count": 46,
   "id": "6f378e9e-60a8-426c-96a1-9e095b56971a",
   "metadata": {},
   "outputs": [
    {
     "data": {
      "text/plain": [
       "<AxesSubplot:>"
      ]
     },
     "execution_count": 46,
     "metadata": {},
     "output_type": "execute_result"
    },
    {
     "data": {
      "image/png": "[encoded data removed]",
      "text/plain": [
       "<Figure size 432x288 with 1 Axes>"
      ]
     },
     "metadata": {
      "needs_background": "light"
     },
     "output_type": "display_data"
    }
   ],
   "source": [
    "# histogram zmiennej 'power'\n",
    "df['power'].hist()"
   ]
  },
  {
   "cell_type": "code",
   "execution_count": 39,
   "id": "8e640cb3-2628-4ace-8e4a-7c03a77139d4",
   "metadata": {},
   "outputs": [],
   "source": [
    "import seaborn as sns"
   ]
  },
  {
   "cell_type": "code",
   "execution_count": 47,
   "id": "c90a5b4a-a1eb-449c-a085-e206d70b6986",
   "metadata": {},
   "outputs": [
    {
     "data": {
      "text/plain": [
       "<seaborn.matrix.ClusterGrid at 0x2768c72a948>"
      ]
     },
     "execution_count": 47,
     "metadata": {},
     "output_type": "execute_result"
    },
    {
     "data": {
      "image/png": "[encoded data removed]",
      "text/plain": [
       "<Figure size 720x720 with 4 Axes>"
      ]
     },
     "metadata": {
      "needs_background": "light"
     },
     "output_type": "display_data"
    }
   ],
   "source": [
    "# graficzna prezentacja korelacji zmiennych\n",
    "sns.clustermap(df.corr())"
   ]
  },
  {
   "cell_type": "code",
   "execution_count": 50,
   "id": "04a502d2-3e93-414d-8bda-a84bddc04e4c",
   "metadata": {},
   "outputs": [],
   "source": [
    "##### WNIOSKI\n",
    "# 1 -  zmienna power jest najsilniej skorelowana z ciśnieniem 'P1'  (wspolczynnik korelacji blisko 1)\n",
    "# oraz dość mocno skorelowana z odczytami temperatur ('Ta1 - Ta8')\n",
    "# 2 - odczyt temeratury 'Ta3' charakteryzuje się najwieksza zmiennoscia ( kilkukrotnie wyzsze odchylenie standardowe \n",
    "# w porownaniu z innym odczytami temperatur)"
   ]
  },
  {
   "cell_type": "code",
   "execution_count": null,
   "id": "87a03f25-f135-4b4a-912a-e681332cc2d4",
   "metadata": {},
   "outputs": [],
   "source": []
  }
 ],
 "metadata": {
  "kernelspec": {
   "display_name": "Python 3 (ipykernel)",
   "language": "python",
   "name": "python3"
  },
  "language_info": {
   "codemirror_mode": {
    "name": "ipython",
    "version": 3
   },
   "file_extension": ".py",
   "mimetype": "text/x-python",
   "name": "python",
   "nbconvert_exporter": "python",
   "pygments_lexer": "ipython3",
   "version": "3.7.9"
  }
 },
 "nbformat": 4,
 "nbformat_minor": 5
}
